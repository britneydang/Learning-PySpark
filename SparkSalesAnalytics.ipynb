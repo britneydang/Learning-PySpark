{
 "cells": [
  {
   "cell_type": "code",
   "execution_count": 1,
   "id": "4b82987b-cc19-4d7d-a14f-c3d0e936f006",
   "metadata": {},
   "outputs": [],
   "source": [
    "from pyspark.sql import SparkSession\n",
    "from pyspark.sql.types import StructType, StructField, StringType"
   ]
  },
  {
   "cell_type": "code",
   "execution_count": 2,
   "id": "366ffff0-752a-411b-8c87-ac15def8db78",
   "metadata": {},
   "outputs": [],
   "source": [
    "spark = SparkSession.builder.appName(\"SalesAnalytics\").getOrCreate()"
   ]
  },
  {
   "cell_type": "markdown",
   "id": "2e544d5e-fd2c-4502-a638-3edb03fe338f",
   "metadata": {},
   "source": [
    "## Data Preparation"
   ]
  },
  {
   "cell_type": "code",
   "execution_count": 3,
   "id": "9d2f4cb5-2865-4004-8c68-376e0ade658b",
   "metadata": {},
   "outputs": [],
   "source": [
    "schema = StructType([\n",
    "    StructField(\"Order ID\", StringType(), True),\n",
    "    StructField(\"Product\", StringType(), True),\n",
    "    StructField(\"Qty Ordered\", StringType(), True),\n",
    "    StructField(\"Price Each\", StringType(), True),\n",
    "    StructField(\"Order Date\", StringType(), True),\n",
    "    StructField(\"Purchase Address\", StringType(), True)\n",
    "])"
   ]
  },
  {
   "cell_type": "code",
   "execution_count": 4,
   "id": "d8fcee30-fa4e-4b88-8387-056aa1093fca",
   "metadata": {},
   "outputs": [],
   "source": [
    "sales_data_fpath = [\n",
    "    \"./data/salesdata/Sales_January_2019.csv\",\n",
    "    \"./data/salesdata/Sales_February_2019.csv\",\n",
    "    \"./data/salesdata/Sales_March_2019.csv\",\n",
    "    \"./data/salesdata/Sales_April_2019.csv\",\n",
    "    \"./data/salesdata/Sales_May_2019.csv\",\n",
    "    \"./data/salesdata/Sales_June_2019.csv\",\n",
    "    \"./data/salesdata/Sales_July_2019.csv\",\n",
    "    \"./data/salesdata/Sales_August_2019.csv\",\n",
    "    \"./data/salesdata/Sales_September_2019.csv\",\n",
    "    \"./data/salesdata/Sales_October_2019.csv\",\n",
    "    \"./data/salesdata/Sales_November_2019.csv\",\n",
    "    \"./data/salesdata/Sales_December_2019.csv\"]\n",
    "sales_raw_df = spark.read.csv(sales_data_fpath, header = True, schema = schema)"
   ]
  },
  {
   "cell_type": "code",
   "execution_count": 5,
   "id": "4c616cf5-80c9-45e5-8953-2f8bcee722d0",
   "metadata": {},
   "outputs": [
    {
     "name": "stdout",
     "output_type": "stream",
     "text": [
      "+--------+--------------------+-----------+----------+--------------+--------------------+\n",
      "|Order ID|             Product|Qty Ordered|Price Each|    Order Date|    Purchase Address|\n",
      "+--------+--------------------+-----------+----------+--------------+--------------------+\n",
      "|  295665|  Macbook Pro Laptop|          1|      1700|12/30/19 00:01|136 Church St, Ne...|\n",
      "|  295666|  LG Washing Machine|          1|     600.0|12/29/19 07:03|562 2nd St, New Y...|\n",
      "|  295667|USB-C Charging Cable|          1|     11.95|12/12/19 18:21|277 Main St, New ...|\n",
      "|  295668|    27in FHD Monitor|          1|    149.99|12/22/19 15:13|410 6th St, San F...|\n",
      "|  295669|USB-C Charging Cable|          1|     11.95|12/18/19 12:38|43 Hill St, Atlan...|\n",
      "|  295670|AA Batteries (4-p...|          1|      3.84|12/31/19 22:58|200 Jefferson St,...|\n",
      "|  295671|USB-C Charging Cable|          1|     11.95|12/16/19 15:10|928 12th St, Port...|\n",
      "|  295672|USB-C Charging Cable|          2|     11.95|12/13/19 09:29|813 Hickory St, D...|\n",
      "|  295673|Bose SoundSport H...|          1|     99.99|12/15/19 23:26|718 Wilson St, Da...|\n",
      "|  295674|AAA Batteries (4-...|          4|      2.99|12/28/19 11:51|77 7th St, Dallas...|\n",
      "+--------+--------------------+-----------+----------+--------------+--------------------+\n",
      "only showing top 10 rows\n",
      "\n"
     ]
    }
   ],
   "source": [
    "sales_raw_df.show(10)"
   ]
  },
  {
   "cell_type": "code",
   "execution_count": 6,
   "id": "64533781-43c8-404e-ab39-8f4a0f0a9c07",
   "metadata": {},
   "outputs": [
    {
     "name": "stdout",
     "output_type": "stream",
     "text": [
      "root\n",
      " |-- Order ID: string (nullable = true)\n",
      " |-- Product: string (nullable = true)\n",
      " |-- Qty Ordered: string (nullable = true)\n",
      " |-- Price Each: string (nullable = true)\n",
      " |-- Order Date: string (nullable = true)\n",
      " |-- Purchase Address: string (nullable = true)\n",
      "\n"
     ]
    }
   ],
   "source": [
    "sales_raw_df.printSchema()"
   ]
  },
  {
   "cell_type": "code",
   "execution_count": null,
   "id": "5abc7a11-2eb0-416a-8193-4f1191b3b3a0",
   "metadata": {},
   "outputs": [],
   "source": []
  }
 ],
 "metadata": {
  "kernelspec": {
   "display_name": "Python 3 (ipykernel)",
   "language": "python",
   "name": "python3"
  },
  "language_info": {
   "codemirror_mode": {
    "name": "ipython",
    "version": 3
   },
   "file_extension": ".py",
   "mimetype": "text/x-python",
   "name": "python",
   "nbconvert_exporter": "python",
   "pygments_lexer": "ipython3",
   "version": "3.10.0"
  }
 },
 "nbformat": 4,
 "nbformat_minor": 5
}
