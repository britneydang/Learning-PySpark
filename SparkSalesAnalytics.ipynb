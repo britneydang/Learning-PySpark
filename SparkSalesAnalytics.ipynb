{
 "cells": [
  {
   "cell_type": "code",
   "execution_count": 1,
   "id": "4b82987b-cc19-4d7d-a14f-c3d0e936f006",
   "metadata": {},
   "outputs": [],
   "source": [
    "from pyspark.sql import SparkSession\n",
    "from pyspark.sql.types import StructType, StructField, StringType"
   ]
  },
  {
   "cell_type": "code",
   "execution_count": 2,
   "id": "366ffff0-752a-411b-8c87-ac15def8db78",
   "metadata": {},
   "outputs": [],
   "source": [
    "spark = SparkSession.builder.appName(\"SalesAnalytics\").getOrCreate()"
   ]
  },
  {
   "cell_type": "markdown",
   "id": "2e544d5e-fd2c-4502-a638-3edb03fe338f",
   "metadata": {},
   "source": [
    "## Data Preparation"
   ]
  },
  {
   "cell_type": "code",
   "execution_count": 3,
   "id": "9d2f4cb5-2865-4004-8c68-376e0ade658b",
   "metadata": {},
   "outputs": [],
   "source": [
    "schema = StructType([\n",
    "    StructField(\"Order ID\", StringType(), True),\n",
    "    StructField(\"Product\", StringType(), True),\n",
    "    StructField(\"Qty Ordered\", StringType(), True),\n",
    "    StructField(\"Price Each\", StringType(), True),\n",
    "    StructField(\"Order Date\", StringType(), True),\n",
    "    StructField(\"Purchase Address\", StringType(), True)\n",
    "])"
   ]
  },
  {
   "cell_type": "code",
   "execution_count": 4,
   "id": "d8fcee30-fa4e-4b88-8387-056aa1093fca",
   "metadata": {},
   "outputs": [],
   "source": [
    "sales_data_fpath = [\n",
    "    \"./data/salesdata/Sales_January_2019.csv\",\n",
    "    \"./data/salesdata/Sales_February_2019.csv\",\n",
    "    \"./data/salesdata/Sales_March_2019.csv\",\n",
    "    \"./data/salesdata/Sales_April_2019.csv\",\n",
    "    \"./data/salesdata/Sales_May_2019.csv\",\n",
    "    \"./data/salesdata/Sales_June_2019.csv\",\n",
    "    \"./data/salesdata/Sales_July_2019.csv\",\n",
    "    \"./data/salesdata/Sales_August_2019.csv\",\n",
    "    \"./data/salesdata/Sales_September_2019.csv\",\n",
    "    \"./data/salesdata/Sales_October_2019.csv\",\n",
    "    \"./data/salesdata/Sales_November_2019.csv\",\n",
    "    \"./data/salesdata/Sales_December_2019.csv\"]\n",
    "sales_raw_df = spark.read.csv(sales_data_fpath, header = True, schema = schema)"
   ]
  },
  {
   "cell_type": "code",
   "execution_count": 5,
   "id": "4c616cf5-80c9-45e5-8953-2f8bcee722d0",
   "metadata": {},
   "outputs": [
    {
     "name": "stdout",
     "output_type": "stream",
     "text": [
      "+--------+--------------------+-----------+----------+--------------+--------------------+\n",
      "|Order ID|             Product|Qty Ordered|Price Each|    Order Date|    Purchase Address|\n",
      "+--------+--------------------+-----------+----------+--------------+--------------------+\n",
      "|  295665|  Macbook Pro Laptop|          1|      1700|12/30/19 00:01|136 Church St, Ne...|\n",
      "|  295666|  LG Washing Machine|          1|     600.0|12/29/19 07:03|562 2nd St, New Y...|\n",
      "|  295667|USB-C Charging Cable|          1|     11.95|12/12/19 18:21|277 Main St, New ...|\n",
      "|  295668|    27in FHD Monitor|          1|    149.99|12/22/19 15:13|410 6th St, San F...|\n",
      "|  295669|USB-C Charging Cable|          1|     11.95|12/18/19 12:38|43 Hill St, Atlan...|\n",
      "|  295670|AA Batteries (4-p...|          1|      3.84|12/31/19 22:58|200 Jefferson St,...|\n",
      "|  295671|USB-C Charging Cable|          1|     11.95|12/16/19 15:10|928 12th St, Port...|\n",
      "|  295672|USB-C Charging Cable|          2|     11.95|12/13/19 09:29|813 Hickory St, D...|\n",
      "|  295673|Bose SoundSport H...|          1|     99.99|12/15/19 23:26|718 Wilson St, Da...|\n",
      "|  295674|AAA Batteries (4-...|          4|      2.99|12/28/19 11:51|77 7th St, Dallas...|\n",
      "+--------+--------------------+-----------+----------+--------------+--------------------+\n",
      "only showing top 10 rows\n",
      "\n"
     ]
    }
   ],
   "source": [
    "sales_raw_df.show(10)"
   ]
  },
  {
   "cell_type": "code",
   "execution_count": 6,
   "id": "64533781-43c8-404e-ab39-8f4a0f0a9c07",
   "metadata": {},
   "outputs": [
    {
     "name": "stdout",
     "output_type": "stream",
     "text": [
      "root\n",
      " |-- Order ID: string (nullable = true)\n",
      " |-- Product: string (nullable = true)\n",
      " |-- Qty Ordered: string (nullable = true)\n",
      " |-- Price Each: string (nullable = true)\n",
      " |-- Order Date: string (nullable = true)\n",
      " |-- Purchase Address: string (nullable = true)\n",
      "\n"
     ]
    }
   ],
   "source": [
    "sales_raw_df.printSchema()"
   ]
  },
  {
   "cell_type": "markdown",
   "id": "c190566c-6bc7-4f40-90f4-c1dd274d1ef0",
   "metadata": {},
   "source": [
    "## Data Preparation and Cleansing"
   ]
  },
  {
   "cell_type": "raw",
   "id": "c0e0b3a8-ea0d-4cc7-bbf0-86d25aab152d",
   "metadata": {},
   "source": [
    "Remove NULL rows and bad records"
   ]
  },
  {
   "cell_type": "code",
   "execution_count": 7,
   "id": "9d160de2-7683-445c-8fa5-dfe3259e3fbd",
   "metadata": {},
   "outputs": [],
   "source": [
    "from pyspark.sql.functions import col"
   ]
  },
  {
   "cell_type": "code",
   "execution_count": 8,
   "id": "503244b9-9c9d-4ebf-be3b-6cb2168bfe91",
   "metadata": {},
   "outputs": [
    {
     "name": "stdout",
     "output_type": "stream",
     "text": [
      "+--------+-------+-----------+----------+----------+----------------+\n",
      "|Order ID|Product|Qty Ordered|Price Each|Order Date|Purchase Address|\n",
      "+--------+-------+-----------+----------+----------+----------------+\n",
      "|    NULL|   NULL|       NULL|      NULL|      NULL|            NULL|\n",
      "|    NULL|   NULL|       NULL|      NULL|      NULL|            NULL|\n",
      "|    NULL|   NULL|       NULL|      NULL|      NULL|            NULL|\n",
      "|    NULL|   NULL|       NULL|      NULL|      NULL|            NULL|\n",
      "|    NULL|   NULL|       NULL|      NULL|      NULL|            NULL|\n",
      "|    NULL|   NULL|       NULL|      NULL|      NULL|            NULL|\n",
      "|    NULL|   NULL|       NULL|      NULL|      NULL|            NULL|\n",
      "|    NULL|   NULL|       NULL|      NULL|      NULL|            NULL|\n",
      "|    NULL|   NULL|       NULL|      NULL|      NULL|            NULL|\n",
      "|    NULL|   NULL|       NULL|      NULL|      NULL|            NULL|\n",
      "+--------+-------+-----------+----------+----------+----------------+\n",
      "only showing top 10 rows\n",
      "\n"
     ]
    }
   ],
   "source": [
    "sales_raw_df.filter(col(\"Order ID\").isNull() == True).show(10)"
   ]
  },
  {
   "cell_type": "code",
   "execution_count": 9,
   "id": "79b80158-dbc3-4288-8bf2-07b0b66cbe4d",
   "metadata": {},
   "outputs": [],
   "source": [
    "sales_raw_df = sales_raw_df.na.drop(\"any\")"
   ]
  },
  {
   "cell_type": "code",
   "execution_count": 10,
   "id": "9cd3449b-fbc9-43dd-a789-3770f6112e3d",
   "metadata": {},
   "outputs": [
    {
     "name": "stdout",
     "output_type": "stream",
     "text": [
      "+--------+-------+-----------+----------+----------+----------------+\n",
      "|Order ID|Product|Qty Ordered|Price Each|Order Date|Purchase Address|\n",
      "+--------+-------+-----------+----------+----------+----------------+\n",
      "+--------+-------+-----------+----------+----------+----------------+\n",
      "\n"
     ]
    }
   ],
   "source": [
    "sales_raw_df.filter(col(\"Order ID\").isNull() == True).show(10)"
   ]
  },
  {
   "cell_type": "code",
   "execution_count": 11,
   "id": "5420e412-f732-44a2-b19d-e587ba87351d",
   "metadata": {},
   "outputs": [
    {
     "name": "stdout",
     "output_type": "stream",
     "text": [
      "+-------+------------------+------------+------------------+------------------+--------------+--------------------+\n",
      "|summary|          Order ID|     Product|       Qty Ordered|        Price Each|    Order Date|    Purchase Address|\n",
      "+-------+------------------+------------+------------------+------------------+--------------+--------------------+\n",
      "|  count|            186305|      186305|            186305|            186305|        186305|              186305|\n",
      "|   mean| 230417.5693788653|        NULL|1.1243828986286637|184.39973476747707|          NULL|                NULL|\n",
      "| stddev|51512.737109995265|        NULL|0.4427926240286704| 332.7313298843439|          NULL|                NULL|\n",
      "|    min|            141234|20in Monitor|                 1|            109.99|01/01/19 03:07|1 11th St, Atlant...|\n",
      "|    max|          Order ID|      iPhone|  Quantity Ordered|        Price Each|    Order Date|    Purchase Address|\n",
      "+-------+------------------+------------+------------------+------------------+--------------+--------------------+\n",
      "\n"
     ]
    }
   ],
   "source": [
    "sales_raw_df.describe(\"Order ID\",\"Product\",\"Qty Ordered\",\"Price Each\",\"Order Date\",\"Purchase Address\").show()"
   ]
  },
  {
   "cell_type": "raw",
   "id": "c50dba43-daad-4d5b-8673-d9153129685a",
   "metadata": {},
   "source": [
    "Extract the City and State from Purchase Address"
   ]
  },
  {
   "cell_type": "code",
   "execution_count": 12,
   "id": "992df71e-df30-4863-9dab-1fe7edb4d8f4",
   "metadata": {},
   "outputs": [],
   "source": [
    "from pyspark.sql.functions import split"
   ]
  },
  {
   "cell_type": "code",
   "execution_count": 13,
   "id": "f638d85f-a44e-45b7-bad2-a3070434c1c3",
   "metadata": {},
   "outputs": [
    {
     "name": "stdout",
     "output_type": "stream",
     "text": [
      "+-----------------------------------------+\n",
      "|Purchase Address                         |\n",
      "+-----------------------------------------+\n",
      "|136 Church St, New York City, NY 10001   |\n",
      "|562 2nd St, New York City, NY 10001      |\n",
      "|277 Main St, New York City, NY 10001     |\n",
      "|410 6th St, San Francisco, CA 94016      |\n",
      "|43 Hill St, Atlanta, GA 30301            |\n",
      "|200 Jefferson St, New York City, NY 10001|\n",
      "|928 12th St, Portland, OR 97035          |\n",
      "|813 Hickory St, Dallas, TX 75001         |\n",
      "|718 Wilson St, Dallas, TX 75001          |\n",
      "|77 7th St, Dallas, TX 75001              |\n",
      "+-----------------------------------------+\n",
      "only showing top 10 rows\n",
      "\n"
     ]
    }
   ],
   "source": [
    "sales_raw_df.select(\"Purchase Address\").show(10, truncate=False)"
   ]
  },
  {
   "cell_type": "code",
   "execution_count": 14,
   "id": "bcaf8a43-1b33-45ad-8772-769afacab5d1",
   "metadata": {},
   "outputs": [
    {
     "name": "stdout",
     "output_type": "stream",
     "text": [
      "+-----------------------------------------+---------------------------------------------+\n",
      "|Purchase Address                         |split(Purchase Address, ,, -1)               |\n",
      "+-----------------------------------------+---------------------------------------------+\n",
      "|136 Church St, New York City, NY 10001   |[136 Church St,  New York City,  NY 10001]   |\n",
      "|562 2nd St, New York City, NY 10001      |[562 2nd St,  New York City,  NY 10001]      |\n",
      "|277 Main St, New York City, NY 10001     |[277 Main St,  New York City,  NY 10001]     |\n",
      "|410 6th St, San Francisco, CA 94016      |[410 6th St,  San Francisco,  CA 94016]      |\n",
      "|43 Hill St, Atlanta, GA 30301            |[43 Hill St,  Atlanta,  GA 30301]            |\n",
      "|200 Jefferson St, New York City, NY 10001|[200 Jefferson St,  New York City,  NY 10001]|\n",
      "|928 12th St, Portland, OR 97035          |[928 12th St,  Portland,  OR 97035]          |\n",
      "|813 Hickory St, Dallas, TX 75001         |[813 Hickory St,  Dallas,  TX 75001]         |\n",
      "|718 Wilson St, Dallas, TX 75001          |[718 Wilson St,  Dallas,  TX 75001]          |\n",
      "|77 7th St, Dallas, TX 75001              |[77 7th St,  Dallas,  TX 75001]              |\n",
      "+-----------------------------------------+---------------------------------------------+\n",
      "only showing top 10 rows\n",
      "\n"
     ]
    }
   ],
   "source": [
    "sales_raw_df.select(\"Purchase Address\", split(col(\"Purchase Address\"), \",\")).show(10, truncate=False)"
   ]
  },
  {
   "cell_type": "code",
   "execution_count": 15,
   "id": "0a9eda56-e90d-48dc-bf47-4d7a0f34cc4a",
   "metadata": {},
   "outputs": [
    {
     "name": "stdout",
     "output_type": "stream",
     "text": [
      "+-----------------------------------------+---------------------------------+\n",
      "|Purchase Address                         |split(Purchase Address, ,, -1)[1]|\n",
      "+-----------------------------------------+---------------------------------+\n",
      "|136 Church St, New York City, NY 10001   | New York City                   |\n",
      "|562 2nd St, New York City, NY 10001      | New York City                   |\n",
      "|277 Main St, New York City, NY 10001     | New York City                   |\n",
      "|410 6th St, San Francisco, CA 94016      | San Francisco                   |\n",
      "|43 Hill St, Atlanta, GA 30301            | Atlanta                         |\n",
      "|200 Jefferson St, New York City, NY 10001| New York City                   |\n",
      "|928 12th St, Portland, OR 97035          | Portland                        |\n",
      "|813 Hickory St, Dallas, TX 75001         | Dallas                          |\n",
      "|718 Wilson St, Dallas, TX 75001          | Dallas                          |\n",
      "|77 7th St, Dallas, TX 75001              | Dallas                          |\n",
      "+-----------------------------------------+---------------------------------+\n",
      "only showing top 10 rows\n",
      "\n"
     ]
    }
   ],
   "source": [
    "sales_raw_df.select(\"Purchase Address\", split(col(\"Purchase Address\"), \",\").getItem(1)).show(10, truncate=False)"
   ]
  },
  {
   "cell_type": "code",
   "execution_count": 16,
   "id": "8cc62ebd-167c-471a-a18c-4345cfd53e0d",
   "metadata": {},
   "outputs": [
    {
     "name": "stdout",
     "output_type": "stream",
     "text": [
      "+-----------------------------------------+---------------------------------+\n",
      "|Purchase Address                         |split(Purchase Address, ,, -1)[2]|\n",
      "+-----------------------------------------+---------------------------------+\n",
      "|136 Church St, New York City, NY 10001   | NY 10001                        |\n",
      "|562 2nd St, New York City, NY 10001      | NY 10001                        |\n",
      "|277 Main St, New York City, NY 10001     | NY 10001                        |\n",
      "|410 6th St, San Francisco, CA 94016      | CA 94016                        |\n",
      "|43 Hill St, Atlanta, GA 30301            | GA 30301                        |\n",
      "|200 Jefferson St, New York City, NY 10001| NY 10001                        |\n",
      "|928 12th St, Portland, OR 97035          | OR 97035                        |\n",
      "|813 Hickory St, Dallas, TX 75001         | TX 75001                        |\n",
      "|718 Wilson St, Dallas, TX 75001          | TX 75001                        |\n",
      "|77 7th St, Dallas, TX 75001              | TX 75001                        |\n",
      "+-----------------------------------------+---------------------------------+\n",
      "only showing top 10 rows\n",
      "\n"
     ]
    }
   ],
   "source": [
    "sales_raw_df.select(\"Purchase Address\", split(col(\"Purchase Address\"), \",\").getItem(2)).show(10, truncate=False)"
   ]
  },
  {
   "cell_type": "code",
   "execution_count": 17,
   "id": "9d99e9cc-09ed-44c6-8d22-12f1f46a8e29",
   "metadata": {},
   "outputs": [
    {
     "name": "stdout",
     "output_type": "stream",
     "text": [
      "+-----------------------------------------+-----------------------------------------------+\n",
      "|Purchase Address                         |split(split(Purchase Address, ,, -1)[2],  , -1)|\n",
      "+-----------------------------------------+-----------------------------------------------+\n",
      "|136 Church St, New York City, NY 10001   |[, NY, 10001]                                  |\n",
      "|562 2nd St, New York City, NY 10001      |[, NY, 10001]                                  |\n",
      "|277 Main St, New York City, NY 10001     |[, NY, 10001]                                  |\n",
      "|410 6th St, San Francisco, CA 94016      |[, CA, 94016]                                  |\n",
      "|43 Hill St, Atlanta, GA 30301            |[, GA, 30301]                                  |\n",
      "|200 Jefferson St, New York City, NY 10001|[, NY, 10001]                                  |\n",
      "|928 12th St, Portland, OR 97035          |[, OR, 97035]                                  |\n",
      "|813 Hickory St, Dallas, TX 75001         |[, TX, 75001]                                  |\n",
      "|718 Wilson St, Dallas, TX 75001          |[, TX, 75001]                                  |\n",
      "|77 7th St, Dallas, TX 75001              |[, TX, 75001]                                  |\n",
      "+-----------------------------------------+-----------------------------------------------+\n",
      "only showing top 10 rows\n",
      "\n"
     ]
    }
   ],
   "source": [
    "sales_raw_df.select(\"Purchase Address\", split(split(col(\"Purchase Address\"), \",\").getItem(2), ' ')).show(10, truncate=False)"
   ]
  },
  {
   "cell_type": "code",
   "execution_count": 18,
   "id": "18c31b47-4748-4974-a4e5-c25e92197334",
   "metadata": {},
   "outputs": [
    {
     "name": "stdout",
     "output_type": "stream",
     "text": [
      "+-----------------------------------------+--------------------------------------------------+\n",
      "|Purchase Address                         |split(split(Purchase Address, ,, -1)[2],  , -1)[1]|\n",
      "+-----------------------------------------+--------------------------------------------------+\n",
      "|136 Church St, New York City, NY 10001   |NY                                                |\n",
      "|562 2nd St, New York City, NY 10001      |NY                                                |\n",
      "|277 Main St, New York City, NY 10001     |NY                                                |\n",
      "|410 6th St, San Francisco, CA 94016      |CA                                                |\n",
      "|43 Hill St, Atlanta, GA 30301            |GA                                                |\n",
      "|200 Jefferson St, New York City, NY 10001|NY                                                |\n",
      "|928 12th St, Portland, OR 97035          |OR                                                |\n",
      "|813 Hickory St, Dallas, TX 75001         |TX                                                |\n",
      "|718 Wilson St, Dallas, TX 75001          |TX                                                |\n",
      "|77 7th St, Dallas, TX 75001              |TX                                                |\n",
      "+-----------------------------------------+--------------------------------------------------+\n",
      "only showing top 10 rows\n",
      "\n"
     ]
    }
   ],
   "source": [
    "sales_raw_df.select(\"Purchase Address\", split(split(col(\"Purchase Address\"), \",\").getItem(2), ' ').getItem(1)).show(10, truncate=False)"
   ]
  },
  {
   "cell_type": "code",
   "execution_count": 19,
   "id": "7d19d1f8-3ae1-4750-921e-00b21dec9012",
   "metadata": {},
   "outputs": [],
   "source": [
    "sales_extractcityandstate_df = (sales_raw_df.withColumn(\"City\", split(col(\"Purchase Address\"), \",\").getItem(1))\n",
    "                                .withColumn(\"State\", split(split(col(\"Purchase Address\"), \",\").getItem(2), ' ').getItem(1)))"
   ]
  },
  {
   "cell_type": "code",
   "execution_count": 20,
   "id": "9eefcc5b-8428-46e0-82af-63a3b7e59cf9",
   "metadata": {},
   "outputs": [
    {
     "name": "stdout",
     "output_type": "stream",
     "text": [
      "+--------+--------------------------+-----------+----------+--------------+-----------------------------------------+--------------+-----+\n",
      "|Order ID|Product                   |Qty Ordered|Price Each|Order Date    |Purchase Address                         |City          |State|\n",
      "+--------+--------------------------+-----------+----------+--------------+-----------------------------------------+--------------+-----+\n",
      "|295665  |Macbook Pro Laptop        |1          |1700      |12/30/19 00:01|136 Church St, New York City, NY 10001   | New York City|NY   |\n",
      "|295666  |LG Washing Machine        |1          |600.0     |12/29/19 07:03|562 2nd St, New York City, NY 10001      | New York City|NY   |\n",
      "|295667  |USB-C Charging Cable      |1          |11.95     |12/12/19 18:21|277 Main St, New York City, NY 10001     | New York City|NY   |\n",
      "|295668  |27in FHD Monitor          |1          |149.99    |12/22/19 15:13|410 6th St, San Francisco, CA 94016      | San Francisco|CA   |\n",
      "|295669  |USB-C Charging Cable      |1          |11.95     |12/18/19 12:38|43 Hill St, Atlanta, GA 30301            | Atlanta      |GA   |\n",
      "|295670  |AA Batteries (4-pack)     |1          |3.84      |12/31/19 22:58|200 Jefferson St, New York City, NY 10001| New York City|NY   |\n",
      "|295671  |USB-C Charging Cable      |1          |11.95     |12/16/19 15:10|928 12th St, Portland, OR 97035          | Portland     |OR   |\n",
      "|295672  |USB-C Charging Cable      |2          |11.95     |12/13/19 09:29|813 Hickory St, Dallas, TX 75001         | Dallas       |TX   |\n",
      "|295673  |Bose SoundSport Headphones|1          |99.99     |12/15/19 23:26|718 Wilson St, Dallas, TX 75001          | Dallas       |TX   |\n",
      "|295674  |AAA Batteries (4-pack)    |4          |2.99      |12/28/19 11:51|77 7th St, Dallas, TX 75001              | Dallas       |TX   |\n",
      "+--------+--------------------------+-----------+----------+--------------+-----------------------------------------+--------------+-----+\n",
      "only showing top 10 rows\n",
      "\n"
     ]
    }
   ],
   "source": [
    "sales_extractcityandstate_df.show(10, truncate = False)"
   ]
  },
  {
   "cell_type": "raw",
   "id": "792d770d-830a-40ee-ad1c-609d2e696961",
   "metadata": {},
   "source": [
    "Aggregations (such as SUM, MAX, AVG, COUNT)"
   ]
  },
  {
   "cell_type": "code",
   "execution_count": 23,
   "id": "8f20790e-ce03-4384-acd0-113020e0ef34",
   "metadata": {},
   "outputs": [],
   "source": [
    "flight_file = './data/flights/flight-summary.csv'\n",
    "flight_summary_df = (spark.read.format(\"csv\")\n",
    "                     .option(\"header\", True)\n",
    "                     .option(\"inferSchema\", True)\n",
    "                     .load(flight_file))"
   ]
  },
  {
   "cell_type": "code",
   "execution_count": 24,
   "id": "81ef0feb-683a-4d0d-964e-c442d333669c",
   "metadata": {},
   "outputs": [
    {
     "name": "stdout",
     "output_type": "stream",
     "text": [
      "+-----------+------------------------------------------------+------------+------------+---------+--------------------------------------------+----------------+----------+-----+\n",
      "|origin_code|origin_airport                                  |origin_city |origin_state|dest_code|dest_airport                                |dest_city       |dest_state|count|\n",
      "+-----------+------------------------------------------------+------------+------------+---------+--------------------------------------------+----------------+----------+-----+\n",
      "|BQN        |Rafael Hernández Airport                        |Aguadilla   |PR          |MCO      |Orlando International Airport               |Orlando         |FL        |441  |\n",
      "|PHL        |Philadelphia International Airport              |Philadelphia|PA          |MCO      |Orlando International Airport               |Orlando         |FL        |4869 |\n",
      "|MCI        |Kansas City International Airport               |Kansas City |MO          |IAH      |George Bush Intercontinental Airport        |Houston         |TX        |1698 |\n",
      "|SPI        |Abraham Lincoln Capital Airport                 |Springfield |IL          |ORD      |Chicago O'Hare International Airport        |Chicago         |IL        |998  |\n",
      "|SNA        |John Wayne Airport (Orange County Airport)      |Santa Ana   |CA          |PHX      |Phoenix Sky Harbor International Airport    |Phoenix         |AZ        |3846 |\n",
      "|LBB        |Lubbock Preston Smith International Airport     |Lubbock     |TX          |DEN      |Denver International Airport                |Denver          |CO        |618  |\n",
      "|ORD        |Chicago O'Hare International Airport            |Chicago     |IL          |PDX      |Portland International Airport              |Portland        |OR        |2149 |\n",
      "|EWR        |Newark Liberty International Airport            |Newark      |NJ          |STT      |Cyril E. King Airport                       |Charlotte Amalie|VI        |239  |\n",
      "|ATL        |Hartsfield-Jackson Atlanta International Airport|Atlanta     |GA          |GSP      |Greenville-Spartanburg International Airport|Greer           |SC        |2470 |\n",
      "|MCI        |Kansas City International Airport               |Kansas City |MO          |MKE      |General Mitchell International Airport      |Milwaukee       |WI        |612  |\n",
      "+-----------+------------------------------------------------+------------+------------+---------+--------------------------------------------+----------------+----------+-----+\n",
      "only showing top 10 rows\n",
      "\n"
     ]
    }
   ],
   "source": [
    "flight_summary_df.show(10, truncate = False)"
   ]
  },
  {
   "cell_type": "code",
   "execution_count": 25,
   "id": "98956b6f-4eb6-4af1-90a0-27795d418361",
   "metadata": {},
   "outputs": [
    {
     "data": {
      "text/plain": [
       "4693"
      ]
     },
     "execution_count": 25,
     "metadata": {},
     "output_type": "execute_result"
    }
   ],
   "source": [
    "flight_summary_df.count()"
   ]
  },
  {
   "cell_type": "code",
   "execution_count": 27,
   "id": "32656935-d246-4428-9f87-ff2a33b28a43",
   "metadata": {},
   "outputs": [
    {
     "name": "stdout",
     "output_type": "stream",
     "text": [
      "root\n",
      " |-- origin_code: string (nullable = true)\n",
      " |-- origin_airport: string (nullable = true)\n",
      " |-- origin_city: string (nullable = true)\n",
      " |-- origin_state: string (nullable = true)\n",
      " |-- dest_code: string (nullable = true)\n",
      " |-- dest_airport: string (nullable = true)\n",
      " |-- dest_city: string (nullable = true)\n",
      " |-- dest_state: string (nullable = true)\n",
      " |-- count: integer (nullable = true)\n",
      "\n"
     ]
    }
   ],
   "source": [
    "flight_summary_df.printSchema()"
   ]
  },
  {
   "cell_type": "code",
   "execution_count": 28,
   "id": "b8caea1b-160b-4e5f-a150-618eb767da81",
   "metadata": {},
   "outputs": [],
   "source": [
    "flight_summary_df = flight_summary_df.withColumnRenamed(\"count\",\"flight_count\")"
   ]
  },
  {
   "cell_type": "code",
   "execution_count": 29,
   "id": "20dc65c1-b8b8-4ba3-8603-fe81a999a1f6",
   "metadata": {},
   "outputs": [
    {
     "name": "stdout",
     "output_type": "stream",
     "text": [
      "+-----------+------------------------------------------------+------------+------------+---------+--------------------------------------------+----------------+----------+------------+\n",
      "|origin_code|origin_airport                                  |origin_city |origin_state|dest_code|dest_airport                                |dest_city       |dest_state|flight_count|\n",
      "+-----------+------------------------------------------------+------------+------------+---------+--------------------------------------------+----------------+----------+------------+\n",
      "|BQN        |Rafael Hernández Airport                        |Aguadilla   |PR          |MCO      |Orlando International Airport               |Orlando         |FL        |441         |\n",
      "|PHL        |Philadelphia International Airport              |Philadelphia|PA          |MCO      |Orlando International Airport               |Orlando         |FL        |4869        |\n",
      "|MCI        |Kansas City International Airport               |Kansas City |MO          |IAH      |George Bush Intercontinental Airport        |Houston         |TX        |1698        |\n",
      "|SPI        |Abraham Lincoln Capital Airport                 |Springfield |IL          |ORD      |Chicago O'Hare International Airport        |Chicago         |IL        |998         |\n",
      "|SNA        |John Wayne Airport (Orange County Airport)      |Santa Ana   |CA          |PHX      |Phoenix Sky Harbor International Airport    |Phoenix         |AZ        |3846        |\n",
      "|LBB        |Lubbock Preston Smith International Airport     |Lubbock     |TX          |DEN      |Denver International Airport                |Denver          |CO        |618         |\n",
      "|ORD        |Chicago O'Hare International Airport            |Chicago     |IL          |PDX      |Portland International Airport              |Portland        |OR        |2149        |\n",
      "|EWR        |Newark Liberty International Airport            |Newark      |NJ          |STT      |Cyril E. King Airport                       |Charlotte Amalie|VI        |239         |\n",
      "|ATL        |Hartsfield-Jackson Atlanta International Airport|Atlanta     |GA          |GSP      |Greenville-Spartanburg International Airport|Greer           |SC        |2470        |\n",
      "|MCI        |Kansas City International Airport               |Kansas City |MO          |MKE      |General Mitchell International Airport      |Milwaukee       |WI        |612         |\n",
      "+-----------+------------------------------------------------+------------+------------+---------+--------------------------------------------+----------------+----------+------------+\n",
      "only showing top 10 rows\n",
      "\n"
     ]
    }
   ],
   "source": [
    "flight_summary_df.show(10, truncate = False)"
   ]
  },
  {
   "cell_type": "code",
   "execution_count": 30,
   "id": "14317360-1216-42f9-9762-a96863d2beac",
   "metadata": {},
   "outputs": [],
   "source": [
    "from pyspark.sql.functions import count, countDistinct"
   ]
  },
  {
   "cell_type": "code",
   "execution_count": 31,
   "id": "d0e3ea26-17e1-4807-8dac-02d1afce1092",
   "metadata": {},
   "outputs": [
    {
     "name": "stdout",
     "output_type": "stream",
     "text": [
      "+------------------------------+----------------------------+--------+\n",
      "|count(DISTINCT origin_airport)|count(DISTINCT dest_airport)|count(1)|\n",
      "+------------------------------+----------------------------+--------+\n",
      "|                           322|                         322|    4693|\n",
      "+------------------------------+----------------------------+--------+\n",
      "\n"
     ]
    }
   ],
   "source": [
    "flight_summary_df.select(countDistinct(\"origin_airport\"), countDistinct(\"dest_airport\"), count(\"*\")).show()"
   ]
  },
  {
   "cell_type": "code",
   "execution_count": 32,
   "id": "7bb47053-d81d-4712-a2c2-17a0124e7896",
   "metadata": {},
   "outputs": [],
   "source": [
    "from pyspark.sql.functions import min, max, sum, sumDistinct, avg"
   ]
  },
  {
   "cell_type": "code",
   "execution_count": 33,
   "id": "55ea7eca-a945-4c2e-bdf6-5b33c2709010",
   "metadata": {},
   "outputs": [
    {
     "name": "stdout",
     "output_type": "stream",
     "text": [
      "+-----------------+-----------------+\n",
      "|min(flight_count)|max(flight_count)|\n",
      "+-----------------+-----------------+\n",
      "|                1|            13744|\n",
      "+-----------------+-----------------+\n",
      "\n"
     ]
    }
   ],
   "source": [
    "flight_summary_df.select(min(\"flight_count\"), max(\"flight_count\")).show()"
   ]
  },
  {
   "cell_type": "code",
   "execution_count": 34,
   "id": "143138d5-8328-48b2-a737-f5b4f95edcff",
   "metadata": {},
   "outputs": [
    {
     "name": "stdout",
     "output_type": "stream",
     "text": [
      "+-----------------+\n",
      "|sum(flight_count)|\n",
      "+-----------------+\n",
      "|          5332914|\n",
      "+-----------------+\n",
      "\n"
     ]
    }
   ],
   "source": [
    "flight_summary_df.select(sum(\"flight_count\")).show()"
   ]
  },
  {
   "cell_type": "code",
   "execution_count": 35,
   "id": "45914e19-1ff4-4993-8620-d7531377c7c4",
   "metadata": {},
   "outputs": [
    {
     "name": "stdout",
     "output_type": "stream",
     "text": [
      "+--------------------+-----+\n",
      "|      origin_airport|count|\n",
      "+--------------------+-----+\n",
      "|Hartsfield-Jackso...|  169|\n",
      "|Chicago O'Hare In...|  162|\n",
      "|Dallas/Fort Worth...|  148|\n",
      "|Denver Internatio...|  139|\n",
      "|Minneapolis-Saint...|  120|\n",
      "|George Bush Inter...|  119|\n",
      "|Detroit Metropoli...|  112|\n",
      "|Salt Lake City In...|   89|\n",
      "|Newark Liberty In...|   88|\n",
      "|San Francisco Int...|   80|\n",
      "+--------------------+-----+\n",
      "only showing top 10 rows\n",
      "\n"
     ]
    }
   ],
   "source": [
    "flight_summary_df.groupBy(\"origin_airport\").count().orderBy(\"count\", ascending = False).show(10)"
   ]
  },
  {
   "cell_type": "code",
   "execution_count": 38,
   "id": "cfb717ee-4d11-4afd-b569-0f4d6fae5508",
   "metadata": {},
   "outputs": [
    {
     "name": "stdout",
     "output_type": "stream",
     "text": [
      "+--------------------+----------------+\n",
      "|      origin_airport|max_flight_count|\n",
      "+--------------------+----------------+\n",
      "|San Francisco Int...|           13744|\n",
      "|Los Angeles Inter...|           13457|\n",
      "|John F. Kennedy I...|           12016|\n",
      "|McCarran Internat...|            9715|\n",
      "|LaGuardia Airport...|            9639|\n",
      "|Chicago O'Hare In...|            9575|\n",
      "|     Kahului Airport|            8313|\n",
      "|Honolulu Internat...|            8282|\n",
      "|Hartsfield-Jackso...|            8234|\n",
      "|Orlando Internati...|            8202|\n",
      "+--------------------+----------------+\n",
      "only showing top 10 rows\n",
      "\n"
     ]
    }
   ],
   "source": [
    "(flight_summary_df.groupBy(\"origin_airport\").agg(max(\"flight_count\").alias(\"max_flight_count\")).orderBy(\"max_flight_count\", ascending = False)).show(10)"
   ]
  },
  {
   "cell_type": "code",
   "execution_count": 41,
   "id": "ee1a7a77-20c7-443c-bb16-4bdfbbf535ef",
   "metadata": {},
   "outputs": [
    {
     "name": "stdout",
     "output_type": "stream",
     "text": [
      "+------------+-------------+-----+\n",
      "|origin_state|  origin_city|count|\n",
      "+------------+-------------+-----+\n",
      "|          CA|San Francisco|   80|\n",
      "|          CA|  Los Angeles|   80|\n",
      "|          CA|    San Diego|   47|\n",
      "|          CA|      Oakland|   35|\n",
      "|          CA|   Sacramento|   27|\n",
      "|          CA|     San Jose|   25|\n",
      "|          CA|    Santa Ana|   22|\n",
      "|          CA|      Ontario|   14|\n",
      "|          CA|   Long Beach|   12|\n",
      "|          CA| Palm Springs|   12|\n",
      "+------------+-------------+-----+\n",
      "only showing top 10 rows\n",
      "\n"
     ]
    }
   ],
   "source": [
    "(flight_summary_df.groupBy(\"origin_state\",\"origin_city\").count().where(col(\"origin_state\")==\"CA\").orderBy(\"count\",ascending=False)).show(10)"
   ]
  },
  {
   "cell_type": "code",
   "execution_count": null,
   "id": "1bed5fa8-b27f-42a4-bb35-842fa539a462",
   "metadata": {},
   "outputs": [],
   "source": []
  }
 ],
 "metadata": {
  "kernelspec": {
   "display_name": "Python 3 (ipykernel)",
   "language": "python",
   "name": "python3"
  },
  "language_info": {
   "codemirror_mode": {
    "name": "ipython",
    "version": 3
   },
   "file_extension": ".py",
   "mimetype": "text/x-python",
   "name": "python",
   "nbconvert_exporter": "python",
   "pygments_lexer": "ipython3",
   "version": "3.10.0"
  }
 },
 "nbformat": 4,
 "nbformat_minor": 5
}
