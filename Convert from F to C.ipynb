{
 "cells": [
  {
   "cell_type": "markdown",
   "id": "5c90d769-72ac-48f6-a637-a0b616423770",
   "metadata": {},
   "source": [
    "# Convert Fahrenheit to Degrees Centrigrades"
   ]
  },
  {
   "cell_type": "code",
   "execution_count": 1,
   "id": "64749bb3-2b3d-4767-b3e1-0657571f114b",
   "metadata": {},
   "outputs": [],
   "source": [
    "from pyspark.sql import SparkSession\n",
    "spark = (SparkSession.builder.appName(\"FtoC\").getOrCreate())"
   ]
  },
  {
   "cell_type": "code",
   "execution_count": 2,
   "id": "ccabbbda-2523-43f5-815b-478a429ae711",
   "metadata": {},
   "outputs": [
    {
     "data": {
      "text/plain": [
       "[59, 57.2, 53.6, 55.4, 51.8, 53.6, 55.4]"
      ]
     },
     "execution_count": 2,
     "metadata": {},
     "output_type": "execute_result"
    }
   ],
   "source": [
    "tempList = [59, 57.2, 53.6, 55.4, 51.8, 53.6, 55.4]\n",
    "tempRDD = spark.sparkContext.parallelize(tempList)\n",
    "tempRDD.collect()"
   ]
  },
  {
   "cell_type": "code",
   "execution_count": 3,
   "id": "74facd83-ab12-4f5e-9a4b-b0765c58a103",
   "metadata": {},
   "outputs": [],
   "source": [
    "def FtoCcalculation(temperature):\n",
    "    C = (temperature - 32) * 5/9\n",
    "    return C"
   ]
  },
  {
   "cell_type": "code",
   "execution_count": 4,
   "id": "2bc30a8a-25e4-4bc3-b31a-9be646b02751",
   "metadata": {},
   "outputs": [
    {
     "data": {
      "text/plain": [
       "[15.0, 14.000000000000002, 12.0, 13.0, 10.999999999999998, 12.0, 13.0]"
      ]
     },
     "execution_count": 4,
     "metadata": {},
     "output_type": "execute_result"
    }
   ],
   "source": [
    "tempF_RDD = tempRDD.map(FtoCcalculation)\n",
    "tempF_RDD.collect()"
   ]
  },
  {
   "cell_type": "code",
   "execution_count": 5,
   "id": "411e213d-0fa3-48b7-8cb1-48b28ddb19c9",
   "metadata": {},
   "outputs": [
    {
     "data": {
      "text/plain": [
       "[15.0, 14.000000000000002, 13.0, 13.0]"
      ]
     },
     "execution_count": 5,
     "metadata": {},
     "output_type": "execute_result"
    }
   ],
   "source": [
    "tempabove13 = tempF_RDD.filter(lambda x: x>=13)\n",
    "tempabove13.collect()"
   ]
  },
  {
   "cell_type": "code",
   "execution_count": null,
   "id": "925d637a-e126-4380-bfbd-4b9d54010451",
   "metadata": {},
   "outputs": [],
   "source": []
  }
 ],
 "metadata": {
  "kernelspec": {
   "display_name": "Python 3 (ipykernel)",
   "language": "python",
   "name": "python3"
  },
  "language_info": {
   "codemirror_mode": {
    "name": "ipython",
    "version": 3
   },
   "file_extension": ".py",
   "mimetype": "text/x-python",
   "name": "python",
   "nbconvert_exporter": "python",
   "pygments_lexer": "ipython3",
   "version": "3.10.0"
  }
 },
 "nbformat": 4,
 "nbformat_minor": 5
}
