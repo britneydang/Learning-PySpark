{
 "cells": [
  {
   "cell_type": "markdown",
   "id": "25d7e32a-d0d5-4a8b-b0fa-1e9aaef1e681",
   "metadata": {},
   "source": [
    "# XYZ Research "
   ]
  },
  {
   "cell_type": "code",
   "execution_count": 1,
   "id": "3aa654a4-dca4-44a6-b4bf-ad95bdaf1af5",
   "metadata": {},
   "outputs": [],
   "source": [
    "from pyspark.sql import SparkSession\n",
    "spark = (SparkSession.builder.appName(\"XYZResearch\").getOrCreate())"
   ]
  },
  {
   "cell_type": "code",
   "execution_count": 3,
   "id": "2ea3d32b-3667-4e2e-81ac-be59b7165d59",
   "metadata": {},
   "outputs": [],
   "source": [
    "data2001List = ['RIN1', 'RIN2', 'RIN3', 'RIN4', 'RIN5', 'RIN6', 'RIN7']\n",
    "data2002List = ['RIN3', 'RIN4', 'RIN7', 'RIN8', 'RIN9']\n",
    "data2003List = ['RIN4', 'RIN8', 'RIN10', 'RIN11', 'RIN12']"
   ]
  },
  {
   "cell_type": "code",
   "execution_count": 4,
   "id": "e8aa47d7-9058-4354-b0a9-648a0f6b335e",
   "metadata": {},
   "outputs": [],
   "source": [
    "data2001List_RDD =spark.sparkContext.parallelize(data2001List)\n",
    "data2002List_RDD =spark.sparkContext.parallelize(data2002List)\n",
    "data2003List_RDD =spark.sparkContext.parallelize(data2003List)"
   ]
  },
  {
   "cell_type": "code",
   "execution_count": 5,
   "id": "0638917f-efd0-47d6-931a-51174dd8e9d1",
   "metadata": {},
   "outputs": [
    {
     "data": {
      "text/plain": [
       "['RIN1',\n",
       " 'RIN2',\n",
       " 'RIN3',\n",
       " 'RIN4',\n",
       " 'RIN5',\n",
       " 'RIN6',\n",
       " 'RIN7',\n",
       " 'RIN3',\n",
       " 'RIN4',\n",
       " 'RIN7',\n",
       " 'RIN8',\n",
       " 'RIN9']"
      ]
     },
     "execution_count": 5,
     "metadata": {},
     "output_type": "execute_result"
    }
   ],
   "source": [
    "union20012002_RDD = data2001List_RDD.union(data2002List_RDD)\n",
    "union20012002_RDD.collect()"
   ]
  },
  {
   "cell_type": "code",
   "execution_count": 7,
   "id": "8c8d37b9-6803-4ffb-80d2-1df85ff4bbfa",
   "metadata": {},
   "outputs": [
    {
     "data": {
      "text/plain": [
       "['RIN1',\n",
       " 'RIN4',\n",
       " 'RIN9',\n",
       " 'RIN10',\n",
       " 'RIN12',\n",
       " 'RIN2',\n",
       " 'RIN3',\n",
       " 'RIN5',\n",
       " 'RIN8',\n",
       " 'RIN11',\n",
       " 'RIN6',\n",
       " 'RIN7']"
      ]
     },
     "execution_count": 7,
     "metadata": {},
     "output_type": "execute_result"
    }
   ],
   "source": [
    "allyear_RDD = union20012002_RDD.union(data2003List_RDD).distinct()\n",
    "allyear_RDD.collect()"
   ]
  },
  {
   "cell_type": "code",
   "execution_count": 8,
   "id": "c370caa7-093c-4bee-b155-0d9a0f7758ea",
   "metadata": {},
   "outputs": [
    {
     "data": {
      "text/plain": [
       "12"
      ]
     },
     "execution_count": 8,
     "metadata": {},
     "output_type": "execute_result"
    }
   ],
   "source": [
    "allyear_RDD.count()"
   ]
  },
  {
   "cell_type": "code",
   "execution_count": 10,
   "id": "127bf893-663d-44bf-bb0d-ae08e2f5136f",
   "metadata": {},
   "outputs": [
    {
     "data": {
      "text/plain": [
       "['RIN2', 'RIN5', 'RIN6', 'RIN1']"
      ]
     },
     "execution_count": 10,
     "metadata": {},
     "output_type": "execute_result"
    }
   ],
   "source": [
    "year1proj_RDD = data2001List_RDD.subtract(data2002List_RDD)\n",
    "year1proj_RDD.collect()"
   ]
  },
  {
   "cell_type": "code",
   "execution_count": 11,
   "id": "a1b9a187-4838-468b-b0b5-f6a0d50a4a53",
   "metadata": {},
   "outputs": [
    {
     "data": {
      "text/plain": [
       "['RIN1', 'RIN9', 'RIN2', 'RIN3', 'RIN5', 'RIN6', 'RIN7']"
      ]
     },
     "execution_count": 11,
     "metadata": {},
     "output_type": "execute_result"
    }
   ],
   "source": [
    "twoyearsproj_RDD = union20012002_RDD.subtract(data2003List_RDD).distinct()\n",
    "twoyearsproj_RDD.collect()"
   ]
  },
  {
   "cell_type": "code",
   "execution_count": null,
   "id": "8ed97e6c-d69d-4a28-9913-b9aa7121b6e6",
   "metadata": {},
   "outputs": [],
   "source": []
  }
 ],
 "metadata": {
  "kernelspec": {
   "display_name": "Python 3 (ipykernel)",
   "language": "python",
   "name": "python3"
  },
  "language_info": {
   "codemirror_mode": {
    "name": "ipython",
    "version": 3
   },
   "file_extension": ".py",
   "mimetype": "text/x-python",
   "name": "python",
   "nbconvert_exporter": "python",
   "pygments_lexer": "ipython3",
   "version": "3.10.0"
  }
 },
 "nbformat": 4,
 "nbformat_minor": 5
}
