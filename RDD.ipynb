{
 "cells": [
  {
   "cell_type": "code",
   "execution_count": 2,
   "id": "92cfa99f-a341-4e99-932f-84a084af351c",
   "metadata": {},
   "outputs": [],
   "source": [
    "from pyspark.sql import SparkSession\n",
    "spark = (SparkSession.builder.appName(\"TestingRDDS\").getOrCreate())"
   ]
  },
  {
   "cell_type": "code",
   "execution_count": 16,
   "id": "e68558c6-b6aa-4759-9791-4d9dc70c029b",
   "metadata": {},
   "outputs": [],
   "source": [
    "words_list = \"Britney Dang is learning PySpark and finds it fun, PySpark is important!\".split(\" \")"
   ]
  },
  {
   "cell_type": "code",
   "execution_count": 4,
   "id": "6666743c-947d-4478-a132-7157a28e81ce",
   "metadata": {},
   "outputs": [
    {
     "data": {
      "text/plain": [
       "list"
      ]
     },
     "execution_count": 4,
     "metadata": {},
     "output_type": "execute_result"
    }
   ],
   "source": [
    "type(words_list)"
   ]
  },
  {
   "cell_type": "code",
   "execution_count": 17,
   "id": "59578ab4-b9cf-45f8-8d87-02421ad383e2",
   "metadata": {},
   "outputs": [
    {
     "name": "stdout",
     "output_type": "stream",
     "text": [
      "['Britney', 'Dang', 'is', 'learning', 'PySpark', 'and', 'finds', 'it', 'fun,', 'PySpark', 'is', 'important!']\n"
     ]
    }
   ],
   "source": [
    "print(words_list)"
   ]
  },
  {
   "cell_type": "code",
   "execution_count": 18,
   "id": "144dd9c4-ac2a-4508-9939-68489a09b052",
   "metadata": {},
   "outputs": [],
   "source": [
    "words_rdd = spark.sparkContext.parallelize(words_list)"
   ]
  },
  {
   "cell_type": "code",
   "execution_count": 19,
   "id": "35742f50-c718-4f41-93ff-6dc8a9bb9e34",
   "metadata": {},
   "outputs": [],
   "source": [
    "words_data = words_rdd.collect()"
   ]
  },
  {
   "cell_type": "code",
   "execution_count": 20,
   "id": "9e828752-eefb-4c1a-8ebc-42ae8a70dea7",
   "metadata": {},
   "outputs": [
    {
     "name": "stdout",
     "output_type": "stream",
     "text": [
      "Britney\n",
      "Dang\n",
      "is\n",
      "learning\n",
      "PySpark\n",
      "and\n",
      "finds\n",
      "it\n",
      "fun,\n",
      "PySpark\n",
      "is\n",
      "important!\n"
     ]
    }
   ],
   "source": [
    "for word in words_data:\n",
    "    print(word)"
   ]
  },
  {
   "cell_type": "code",
   "execution_count": 21,
   "id": "f979482d-a94c-4968-be78-995d726ce091",
   "metadata": {},
   "outputs": [
    {
     "data": {
      "text/plain": [
       "12"
      ]
     },
     "execution_count": 21,
     "metadata": {},
     "output_type": "execute_result"
    }
   ],
   "source": [
    "words_rdd.count()"
   ]
  },
  {
   "cell_type": "code",
   "execution_count": 23,
   "id": "29a8f032-06d2-47ef-af38-b0212b1905a4",
   "metadata": {},
   "outputs": [
    {
     "data": {
      "text/plain": [
       "10"
      ]
     },
     "execution_count": 23,
     "metadata": {},
     "output_type": "execute_result"
    }
   ],
   "source": [
    "words_rdd.distinct().count()"
   ]
  },
  {
   "cell_type": "code",
   "execution_count": 24,
   "id": "a18fc39f-11ce-470a-872d-d4ddcee4fd99",
   "metadata": {},
   "outputs": [
    {
     "name": "stdout",
     "output_type": "stream",
     "text": [
      "Britney\n",
      "Dang\n",
      "is\n",
      "learning\n",
      "PySpark\n",
      "and\n",
      "finds\n",
      "it\n",
      "fun,\n",
      "PySpark\n",
      "is\n",
      "important!\n"
     ]
    }
   ],
   "source": [
    "words_data = words_rdd.collect()\n",
    "for word in words_data:\n",
    "    print(word)"
   ]
  },
  {
   "cell_type": "code",
   "execution_count": 27,
   "id": "513eb20a-fd94-4b65-8fef-d052733a95d9",
   "metadata": {},
   "outputs": [],
   "source": [
    "words_unique_rdd = words_rdd.distinct()"
   ]
  },
  {
   "cell_type": "code",
   "execution_count": 28,
   "id": "0c8390c2-f0fa-4893-b019-5a0c0beddc24",
   "metadata": {},
   "outputs": [
    {
     "name": "stdout",
     "output_type": "stream",
     "text": [
      "learning\n",
      "finds\n",
      "and\n",
      "Dang\n",
      "is\n",
      "PySpark\n",
      "Britney\n",
      "it\n",
      "fun,\n",
      "important!\n"
     ]
    }
   ],
   "source": [
    "for word in words_unique_rdd.collect():\n",
    "        print(word)"
   ]
  },
  {
   "cell_type": "code",
   "execution_count": 29,
   "id": "7a8ee26b-e43d-494a-b3e9-ed7ed5d30d75",
   "metadata": {},
   "outputs": [],
   "source": [
    "def wordStartsWith(word, letter):\n",
    "    return word.startswith(letter)"
   ]
  },
  {
   "cell_type": "code",
   "execution_count": 31,
   "id": "3805790f-f801-4ea6-9023-63d2267c777a",
   "metadata": {},
   "outputs": [
    {
     "data": {
      "text/plain": [
       "['is', 'it', 'is', 'important!']"
      ]
     },
     "execution_count": 31,
     "metadata": {},
     "output_type": "execute_result"
    }
   ],
   "source": [
    "words_rdd.filter(lambda word: wordStartsWith(word, \"i\")).collect()"
   ]
  },
  {
   "cell_type": "code",
   "execution_count": 32,
   "id": "d03ab9e7-22e2-44f9-9dfc-4c3539633bb6",
   "metadata": {},
   "outputs": [
    {
     "name": "stdout",
     "output_type": "stream",
     "text": [
      "[1, 2, 3, 4, 5, 6, 7, 8, 9, 10, 11, 12, 13, 14, 15, 16, 17, 18, 19, 20]\n"
     ]
    }
   ],
   "source": [
    "num_list = [*range(1, 21)]\n",
    "print(num_list)"
   ]
  },
  {
   "cell_type": "code",
   "execution_count": 33,
   "id": "cd7f0214-b0ef-4f71-9cfc-ef1ffff20581",
   "metadata": {},
   "outputs": [],
   "source": [
    "nums_rdd = spark.sparkContext.parallelize(num_list)"
   ]
  },
  {
   "cell_type": "code",
   "execution_count": 34,
   "id": "e6a2be61-5e2d-4b06-af04-0e38e1e97891",
   "metadata": {},
   "outputs": [],
   "source": [
    "nums_squared_rdd = nums_rdd.map(lambda x: (x, x*x))"
   ]
  },
  {
   "cell_type": "code",
   "execution_count": 35,
   "id": "b54dc330-0b7a-44e4-b9bf-694a2a5d1723",
   "metadata": {},
   "outputs": [
    {
     "name": "stdout",
     "output_type": "stream",
     "text": [
      "(1, 1)\n",
      "(2, 4)\n",
      "(3, 9)\n",
      "(4, 16)\n",
      "(5, 25)\n",
      "(6, 36)\n",
      "(7, 49)\n",
      "(8, 64)\n",
      "(9, 81)\n",
      "(10, 100)\n",
      "(11, 121)\n",
      "(12, 144)\n",
      "(13, 169)\n",
      "(14, 196)\n",
      "(15, 225)\n",
      "(16, 256)\n",
      "(17, 289)\n",
      "(18, 324)\n",
      "(19, 361)\n",
      "(20, 400)\n"
     ]
    }
   ],
   "source": [
    "for number in nums_squared_rdd.collect():\n",
    "    print(number)"
   ]
  },
  {
   "cell_type": "code",
   "execution_count": 36,
   "id": "17e6ee80-f912-431f-bd79-c26bd097ef45",
   "metadata": {},
   "outputs": [],
   "source": [
    "words_trd_rdd = words_rdd.map(lambda word: (word, word[0], wordStartsWith(word, \"i\")))"
   ]
  },
  {
   "cell_type": "code",
   "execution_count": 37,
   "id": "b78e19ab-1745-4c8b-9148-827c8ecea00f",
   "metadata": {},
   "outputs": [
    {
     "name": "stdout",
     "output_type": "stream",
     "text": [
      "('Britney', 'B', False)\n",
      "('Dang', 'D', False)\n",
      "('is', 'i', True)\n",
      "('learning', 'l', False)\n",
      "('PySpark', 'P', False)\n",
      "('and', 'a', False)\n",
      "('finds', 'f', False)\n",
      "('it', 'i', True)\n",
      "('fun,', 'f', False)\n",
      "('PySpark', 'P', False)\n",
      "('is', 'i', True)\n",
      "('important!', 'i', True)\n"
     ]
    }
   ],
   "source": [
    "for element in words_trd_rdd.collect():\n",
    "    print(element)"
   ]
  },
  {
   "cell_type": "code",
   "execution_count": 41,
   "id": "4e08a92d-377e-4083-9693-b43b03b792a9",
   "metadata": {},
   "outputs": [
    {
     "data": {
      "text/plain": [
       "['B', 'r', 'i', 't', 'n', 'e', 'y', 'D', 'a', 'n', 'g']"
      ]
     },
     "execution_count": 41,
     "metadata": {},
     "output_type": "execute_result"
    }
   ],
   "source": [
    "words_rdd.flatMap(lambda word: list(word)).take(11)"
   ]
  },
  {
   "cell_type": "code",
   "execution_count": 42,
   "id": "98be7032-d087-4558-87c1-46cc95d1fcda",
   "metadata": {},
   "outputs": [],
   "source": [
    "countries_list = [(\"India\",91),(\"USA\",4),(\"Greece\",13),(\"Vietnam\",100)]\n",
    "countries_rdd = spark.sparkContext.parallelize(countries_list)"
   ]
  },
  {
   "cell_type": "code",
   "execution_count": 43,
   "id": "70bcd8d6-a50d-4a8c-af5d-16a5f9a959ca",
   "metadata": {},
   "outputs": [],
   "source": [
    "srtd_countries_list = countries_rdd.sortByKey().collect()"
   ]
  },
  {
   "cell_type": "code",
   "execution_count": 44,
   "id": "711efe1c-1e9b-43b5-b4d4-3308adf27f4e",
   "metadata": {},
   "outputs": [
    {
     "name": "stdout",
     "output_type": "stream",
     "text": [
      "('Greece', 13)\n",
      "('India', 91)\n",
      "('USA', 4)\n",
      "('Vietnam', 100)\n"
     ]
    }
   ],
   "source": [
    "for country in srtd_countries_list:\n",
    "    print(country)"
   ]
  },
  {
   "cell_type": "code",
   "execution_count": 45,
   "id": "ff1fbc8c-0183-41c4-afb1-f0c4611b329c",
   "metadata": {},
   "outputs": [],
   "source": [
    "srtd_countries_list = countries_rdd.map(lambda c: (c[1],c[0])).sortByKey(False).collect()"
   ]
  },
  {
   "cell_type": "code",
   "execution_count": 46,
   "id": "5d841333-a75b-4134-a1ff-b98ffb85d2a3",
   "metadata": {},
   "outputs": [
    {
     "name": "stdout",
     "output_type": "stream",
     "text": [
      "(100, 'Vietnam')\n",
      "(91, 'India')\n",
      "(13, 'Greece')\n",
      "(4, 'USA')\n"
     ]
    }
   ],
   "source": [
    "for country in srtd_countries_list:\n",
    "    print(country)"
   ]
  },
  {
   "cell_type": "code",
   "execution_count": 47,
   "id": "77e587a8-be91-4220-929e-9e751b16dd4f",
   "metadata": {},
   "outputs": [],
   "source": [
    "num_list = [1,5,2,3,4]"
   ]
  },
  {
   "cell_type": "code",
   "execution_count": 51,
   "id": "ac746d5f-617d-4572-8070-69c479d75063",
   "metadata": {},
   "outputs": [
    {
     "name": "stdout",
     "output_type": "stream",
     "text": [
      "15\n"
     ]
    }
   ],
   "source": [
    "result = spark.sparkContext.parallelize(num_list).reduce(lambda z, y: z + y)\n",
    "print(result)"
   ]
  },
  {
   "cell_type": "code",
   "execution_count": 53,
   "id": "f527ae60-4c8d-4583-a29e-02fa0a134281",
   "metadata": {},
   "outputs": [],
   "source": [
    "def sumList(z, y):\n",
    "    print(z, y)\n",
    "    return z + y"
   ]
  },
  {
   "cell_type": "code",
   "execution_count": 55,
   "id": "389bfea3-292b-4b27-8ce2-8f89a228f144",
   "metadata": {},
   "outputs": [
    {
     "name": "stdout",
     "output_type": "stream",
     "text": [
      "1 5\n",
      "6 2\n",
      "8 7\n",
      "15\n"
     ]
    }
   ],
   "source": [
    "result = spark.sparkContext.parallelize(num_list).reduce(lambda z, y: sumList(z, y))\n",
    "print(result)"
   ]
  },
  {
   "cell_type": "code",
   "execution_count": 56,
   "id": "e2d81d2b-031a-487d-a2ac-9ae3d8a947d0",
   "metadata": {},
   "outputs": [],
   "source": [
    "def wordLengthReducer(leftWord, rightWord):\n",
    "    if len(leftWord) > len(rightWord):\n",
    "        return leftWord\n",
    "    else:\n",
    "        return rightWord"
   ]
  },
  {
   "cell_type": "code",
   "execution_count": 57,
   "id": "80996be8-2d3e-4654-bd52-aa2a3c249a48",
   "metadata": {},
   "outputs": [
    {
     "data": {
      "text/plain": [
       "'important!'"
      ]
     },
     "execution_count": 57,
     "metadata": {},
     "output_type": "execute_result"
    }
   ],
   "source": [
    "words_rdd.reduce(wordLengthReducer)"
   ]
  },
  {
   "cell_type": "code",
   "execution_count": 58,
   "id": "a3aac2c1-6e14-4d60-94e1-a115d421d329",
   "metadata": {},
   "outputs": [
    {
     "data": {
      "text/plain": [
       "'Britney'"
      ]
     },
     "execution_count": 58,
     "metadata": {},
     "output_type": "execute_result"
    }
   ],
   "source": [
    "words_rdd.first()"
   ]
  },
  {
   "cell_type": "code",
   "execution_count": 59,
   "id": "baa34431-c48b-4c97-adef-afcbd065173e",
   "metadata": {},
   "outputs": [
    {
     "data": {
      "text/plain": [
       "99"
      ]
     },
     "execution_count": 59,
     "metadata": {},
     "output_type": "execute_result"
    }
   ],
   "source": [
    "spark.sparkContext.parallelize(range(1,100)).max()"
   ]
  },
  {
   "cell_type": "code",
   "execution_count": 61,
   "id": "82258f13-d904-4a19-b57d-5751aa6e1bb9",
   "metadata": {},
   "outputs": [
    {
     "data": {
      "text/plain": [
       "1"
      ]
     },
     "execution_count": 61,
     "metadata": {},
     "output_type": "execute_result"
    }
   ],
   "source": [
    "spark.sparkContext.parallelize(range(1,100)).min()"
   ]
  },
  {
   "cell_type": "code",
   "execution_count": null,
   "id": "87b26baf-86a6-4aec-8357-c19c2e2b09ca",
   "metadata": {},
   "outputs": [],
   "source": []
  }
 ],
 "metadata": {
  "kernelspec": {
   "display_name": "Python 3 (ipykernel)",
   "language": "python",
   "name": "python3"
  },
  "language_info": {
   "codemirror_mode": {
    "name": "ipython",
    "version": 3
   },
   "file_extension": ".py",
   "mimetype": "text/x-python",
   "name": "python",
   "nbconvert_exporter": "python",
   "pygments_lexer": "ipython3",
   "version": "3.10.0"
  }
 },
 "nbformat": 4,
 "nbformat_minor": 5
}
